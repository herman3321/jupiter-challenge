{
 "cells": [
  {
   "cell_type": "code",
   "execution_count": 18,
   "id": "de7a225e-6d4a-40d0-b0d8-44f8f81824d1",
   "metadata": {},
   "outputs": [],
   "source": [
    "from tradingview_ta import TA_Handler, Exchange, Interval\n",
    "\n",
    "handler = TA_Handler(\n",
    "    symbol = 'USDEUR',\n",
    "    screener = 'forex',\n",
    "    exchange = Exchange.FOREX,\n",
    "    interval = Interval.INTERVAL_1_MONTH\n",
    ")"
   ]
  },
  {
   "cell_type": "code",
   "execution_count": 19,
   "id": "d30ea1a1-3c98-464a-993a-4f3d100545d2",
   "metadata": {},
   "outputs": [
    {
     "data": {
      "text/plain": [
       "{'RECOMMENDATION': 'NEUTRAL', 'BUY': 8, 'SELL': 9, 'NEUTRAL': 8}"
      ]
     },
     "execution_count": 19,
     "metadata": {},
     "output_type": "execute_result"
    }
   ],
   "source": [
    "handler.get_analysis().summary\n"
   ]
  },
  {
   "cell_type": "raw",
   "id": "bcfe452f-64e9-4423-a457-2bde827e0035",
   "metadata": {},
   "source": []
  },
  {
   "cell_type": "code",
   "execution_count": 20,
   "id": "67963ba9-80af-4eb3-83e1-61e568a26f8a",
   "metadata": {},
   "outputs": [
    {
     "data": {
      "text/plain": [
       "{'Recommend.Other': 0,\n",
       " 'Recommend.All': -0.03571429,\n",
       " 'Recommend.MA': -0.07142857,\n",
       " 'RSI': 49.08601183,\n",
       " 'RSI[1]': 48.998325,\n",
       " 'Stoch.K': 26.41508761,\n",
       " 'Stoch.D': 29.59738224,\n",
       " 'Stoch.K[1]': 31.00937858,\n",
       " 'Stoch.D[1]': 28.75152264,\n",
       " 'CCI20': -70.02246003,\n",
       " 'CCI20[1]': -57.04323007,\n",
       " 'ADX': 20.18535885,\n",
       " 'ADX+DI': 19.90406075,\n",
       " 'ADX-DI': 20.01663401,\n",
       " 'ADX+DI[1]': 20.18725356,\n",
       " 'ADX-DI[1]': 20.30142849,\n",
       " 'AO': 0.01659676,\n",
       " 'AO[1]': 0.01636206,\n",
       " 'Mom': -0.0267,\n",
       " 'Mom[1]': -0.0023,\n",
       " 'MACD.macd': 0.00580582,\n",
       " 'MACD.signal': 0.01064915,\n",
       " 'Rec.Stoch.RSI': 0,\n",
       " 'Stoch.RSI.K': 14.41720444,\n",
       " 'Rec.WR': 0,\n",
       " 'W.R': -77.532097,\n",
       " 'Rec.BBPower': 1,\n",
       " 'BBPower': -0.01856053,\n",
       " 'Rec.UO': 0,\n",
       " 'UO': 47.27323012,\n",
       " 'close': 0.9186,\n",
       " 'EMA5': 0.92561087,\n",
       " 'SMA5': 0.92994,\n",
       " 'EMA10': 0.92849159,\n",
       " 'SMA10': 0.92402,\n",
       " 'EMA20': 0.9268804,\n",
       " 'SMA20': 0.944525,\n",
       " 'EMA30': 0.92057337,\n",
       " 'SMA30': 0.92339667,\n",
       " 'EMA50': 0.90850504,\n",
       " 'SMA50': 0.899386,\n",
       " 'EMA100': 0.88645225,\n",
       " 'SMA100': 0.891881,\n",
       " 'EMA200': 0.87054443,\n",
       " 'SMA200': 0.820173,\n",
       " 'Rec.Ichimoku': 0,\n",
       " 'Ichimoku.BLine': 0.9544,\n",
       " 'Rec.VWMA': None,\n",
       " 'VWMA': None,\n",
       " 'Rec.HullMA9': -1,\n",
       " 'HullMA9': 0.93323778,\n",
       " 'Pivot.M.Classic.S3': 0.59476667,\n",
       " 'Pivot.M.Classic.S2': 0.77276667,\n",
       " 'Pivot.M.Classic.S1': 0.85333333,\n",
       " 'Pivot.M.Classic.Middle': 0.95076667,\n",
       " 'Pivot.M.Classic.R1': 1.03133333,\n",
       " 'Pivot.M.Classic.R2': 1.12876667,\n",
       " 'Pivot.M.Classic.R3': 1.30676667,\n",
       " 'Pivot.M.Fibonacci.S3': 0.77276667,\n",
       " 'Pivot.M.Fibonacci.S2': 0.84076267,\n",
       " 'Pivot.M.Fibonacci.S1': 0.88277067,\n",
       " 'Pivot.M.Fibonacci.Middle': 0.95076667,\n",
       " 'Pivot.M.Fibonacci.R1': 1.01876267,\n",
       " 'Pivot.M.Fibonacci.R2': 1.06077067,\n",
       " 'Pivot.M.Fibonacci.R3': 1.12876667,\n",
       " 'Pivot.M.Camarilla.S3': 0.88495,\n",
       " 'Pivot.M.Camarilla.S2': 0.90126667,\n",
       " 'Pivot.M.Camarilla.S1': 0.91758333,\n",
       " 'Pivot.M.Camarilla.Middle': 0.95076667,\n",
       " 'Pivot.M.Camarilla.R1': 0.95021667,\n",
       " 'Pivot.M.Camarilla.R2': 0.96653333,\n",
       " 'Pivot.M.Camarilla.R3': 0.98285,\n",
       " 'Pivot.M.Woodie.S3': 0.6669,\n",
       " 'Pivot.M.Woodie.S2': 0.76855,\n",
       " 'Pivot.M.Woodie.S1': 0.8449,\n",
       " 'Pivot.M.Woodie.Middle': 0.94655,\n",
       " 'Pivot.M.Woodie.R1': 1.0229,\n",
       " 'Pivot.M.Woodie.R2': 1.12455,\n",
       " 'Pivot.M.Woodie.R3': 1.2009,\n",
       " 'Pivot.M.Demark.S1': 0.90205,\n",
       " 'Pivot.M.Demark.Middle': 0.975125,\n",
       " 'Pivot.M.Demark.R1': 1.08005,\n",
       " 'open': 0.9183,\n",
       " 'P.SAR': 0.88986012,\n",
       " 'BB.lower': 0.87977264,\n",
       " 'BB.upper': 1.00927736,\n",
       " 'AO[2]': 0.01836412,\n",
       " 'volume': 0,\n",
       " 'change': 0.04356349,\n",
       " 'low': 0.9166,\n",
       " 'high': 0.923}"
      ]
     },
     "execution_count": 20,
     "metadata": {},
     "output_type": "execute_result"
    }
   ],
   "source": [
    "handler.get_analysis().indicators"
   ]
  },
  {
   "cell_type": "code",
   "execution_count": null,
   "id": "f75ae487-0af2-4872-b78d-7ed62cf2d5a6",
   "metadata": {},
   "outputs": [],
   "source": []
  }
 ],
 "metadata": {
  "kernelspec": {
   "display_name": "Python 3 (ipykernel)",
   "language": "python",
   "name": "python3"
  },
  "language_info": {
   "codemirror_mode": {
    "name": "ipython",
    "version": 3
   },
   "file_extension": ".py",
   "mimetype": "text/x-python",
   "name": "python",
   "nbconvert_exporter": "python",
   "pygments_lexer": "ipython3",
   "version": "3.12.0"
  }
 },
 "nbformat": 4,
 "nbformat_minor": 5
}
