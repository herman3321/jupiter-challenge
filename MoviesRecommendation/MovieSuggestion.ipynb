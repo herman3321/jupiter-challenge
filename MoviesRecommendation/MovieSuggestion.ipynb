{
 "cells": [
  {
   "cell_type": "code",
   "execution_count": 8,
   "id": "2c2c8658-ef23-4f87-a5a6-d57357d27440",
   "metadata": {},
   "outputs": [],
   "source": [
    "import numpy as np\n",
    "import pandas as pd\n",
    "import difflib\n",
    "from sklearn.feature_extraction.text import TfidfVectorizer\n",
    "from sklearn.metrics.pairwise import cosine_similarity"
   ]
  },
  {
   "cell_type": "code",
   "execution_count": 43,
   "id": "e4c64a0d-1885-48c4-a92c-94018c104280",
   "metadata": {},
   "outputs": [
    {
     "name": "stdin",
     "output_type": "stream",
     "text": [
      "Enter your favourate movie:  iron man\n"
     ]
    },
    {
     "name": "stdout",
     "output_type": "stream",
     "text": [
      "Movies suggestion for you \n",
      "\n",
      "1 .  Iron Man\n",
      "2 .  Iron Man 2\n",
      "3 .  Iron Man 3\n",
      "4 .  The Avengers\n",
      "5 .  Captain America: Civil War\n",
      "6 .  The Helix... Loaded\n",
      "7 .  Avengers: Age of Ultron\n",
      "8 .  X-Men: The Last Stand\n",
      "9 .  X-Men: Days of Future Past\n",
      "10 .  X-Men\n",
      "11 .  X2\n",
      "12 .  Made\n",
      "13 .  Tropic Thunder\n",
      "14 .  The Incredible Hulk\n",
      "15 .  X-Men: Apocalypse\n",
      "16 .  The Amazing Spider-Man 2\n",
      "17 .  Captain America: The Winter Soldier\n",
      "18 .  Gothika\n",
      "19 .  X-Men: First Class\n",
      "20 .  A Scanner Darkly\n"
     ]
    }
   ],
   "source": [
    "moviesData = pd.read_csv('movies.csv')\n",
    "selectedFeature = ['genres', 'keywords', 'tagline', 'cast', 'director']\n",
    "\n",
    "for feature in selectedFeature:\n",
    "    moviesData[feature] = moviesData[feature].fillna('')\n",
    "\n",
    "#combine all 5 features\n",
    "combinedFeature = moviesData['genres']+''+moviesData['keywords']+''+moviesData['tagline']+''+moviesData['cast']+''+moviesData['director']\n",
    "\n",
    "vectorizer = TfidfVectorizer()\n",
    "featureVectors = vectorizer.fit_transform(combinedFeature)\n",
    "similarity = cosine_similarity(featureVectors)\n",
    "\n",
    "movieName = input('Enter your favourate movie: ')\n",
    "\n",
    "listAllTitles = moviesData['title'].tolist()\n",
    "findCloseMatch = difflib.get_close_matches(movieName, listAllTitles)\n",
    "closeMatch = findCloseMatch[0]\n",
    "\n",
    "#list of similar movies\n",
    "indexMovie = moviesData[moviesData.title == closeMatch]['index'].values[0]\n",
    "similarityScore = list(enumerate(similarity[indexMovie]))\n",
    "#sort them\n",
    "sortedSimilarMovies = sorted(similarityScore, key = lambda x:x[1], reverse = True)\n",
    "\n",
    "print('Movies suggestion for you \\n')\n",
    "i = 1\n",
    "for movies in sortedSimilarMovies:\n",
    "    index = movies[0]\n",
    "    titleIndex = moviesData[moviesData.index == index]['title'].values[0]\n",
    "    if (i<=20):\n",
    "        print(i, '. ', titleIndex)\n",
    "        i += 1"
   ]
  },
  {
   "cell_type": "code",
   "execution_count": null,
   "id": "d6dcbaec-9e09-4838-b79b-8a2561b81b21",
   "metadata": {},
   "outputs": [],
   "source": []
  }
 ],
 "metadata": {
  "kernelspec": {
   "display_name": "Python 3 (ipykernel)",
   "language": "python",
   "name": "python3"
  },
  "language_info": {
   "codemirror_mode": {
    "name": "ipython",
    "version": 3
   },
   "file_extension": ".py",
   "mimetype": "text/x-python",
   "name": "python",
   "nbconvert_exporter": "python",
   "pygments_lexer": "ipython3",
   "version": "3.12.0"
  }
 },
 "nbformat": 4,
 "nbformat_minor": 5
}
